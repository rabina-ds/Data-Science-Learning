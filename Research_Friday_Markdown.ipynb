{
 "cells": [
  {
   "cell_type": "markdown",
   "id": "207c6fbe-b591-4b70-a26d-9ef2d55cbc43",
   "metadata": {},
   "source": [
    "##Rabina's journey to Data Science"
   ]
  },
  {
   "cell_type": "markdown",
   "id": "e847f676-9d90-4dc8-8031-bb7768d7cfd6",
   "metadata": {},
   "source": [
    "##Introduction"
   ]
  },
  {
   "cell_type": "code",
   "execution_count": null,
   "id": "dcbeb6ac-e378-4902-bacb-c5d6cd775d72",
   "metadata": {},
   "outputs": [],
   "source": []
  }
 ],
 "metadata": {
  "kernelspec": {
   "display_name": "Python [conda env:base] *",
   "language": "python",
   "name": "conda-base-py"
  },
  "language_info": {
   "codemirror_mode": {
    "name": "ipython",
    "version": 3
   },
   "file_extension": ".py",
   "mimetype": "text/x-python",
   "name": "python",
   "nbconvert_exporter": "python",
   "pygments_lexer": "ipython3",
   "version": "3.12.7"
  }
 },
 "nbformat": 4,
 "nbformat_minor": 5
}
