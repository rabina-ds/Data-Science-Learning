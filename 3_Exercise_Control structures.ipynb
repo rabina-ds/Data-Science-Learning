{
 "cells": [
  {
   "cell_type": "markdown",
   "id": "6b3df9e6",
   "metadata": {},
   "source": [
    "# Exercise: Grade Calculator\n",
    "\n",
    "Write a program that asks the user to enter the marks for three subjects: Math, Science, and English. The program should calculate the average mark and determine the corresponding grade based on the following grading scale:\n",
    "\n",
    "- Average Mark >= 90: Grade A\n",
    "- Average Mark >= 80: Grade B\n",
    "- Average Mark >= 70: Grade C\n",
    "- Average Mark >= 60: Grade D\n",
    "- Average Mark < 60: Grade F\n",
    "\n",
    "The program should then display the average mark and the corresponding grade to the user."
   ]
  },
  {
   "cell_type": "code",
   "execution_count": 9,
   "id": "598006c7",
   "metadata": {},
   "outputs": [
    {
     "name": "stdin",
     "output_type": "stream",
     "text": [
      "enter math score: 23\n",
      "enter science score: 23\n",
      "enter english score: 2\n"
     ]
    }
   ],
   "source": [
    "maths_score = int (input(\"enter math score:\"))\n",
    "science_score = int (input (\"enter science score:\"))\n",
    "english_score = int (input (\"enter english score:\"))"
   ]
  },
  {
   "cell_type": "code",
   "execution_count": 11,
   "id": "c4d48e17",
   "metadata": {},
   "outputs": [],
   "source": [
    "avg_score = (maths_score + science_score + english_score) / 3"
   ]
  },
  {
   "cell_type": "code",
   "execution_count": 19,
   "id": "4172f3d5",
   "metadata": {},
   "outputs": [],
   "source": [
    "if avg_score >=90:\n",
    "    Grade = \"A\"\n",
    "elif avg_score >= 80:\n",
    "    Grade = \"B\"\n",
    "elif avg_score >=70:\n",
    "    Grade = \"C\"\n",
    "elif avg_score >= 60:\n",
    "    Grade = \"D\"\n",
    "else:\n",
    "    Grade = \"F\""
   ]
  },
  {
   "cell_type": "code",
   "execution_count": 21,
   "id": "8dbfd89b-6c01-4804-812f-a734db557645",
   "metadata": {},
   "outputs": [
    {
     "name": "stdout",
     "output_type": "stream",
     "text": [
      "Average Score: 16.0\n",
      "Grade: F\n"
     ]
    }
   ],
   "source": [
    "print (\"Average Score:\", avg_score)\n",
    "print (\"Grade:\", Grade)"
   ]
  },
  {
   "cell_type": "code",
   "execution_count": null,
   "id": "37a7c9f8",
   "metadata": {},
   "outputs": [],
   "source": []
  },
  {
   "cell_type": "code",
   "execution_count": null,
   "id": "d2604023",
   "metadata": {},
   "outputs": [],
   "source": []
  },
  {
   "cell_type": "code",
   "execution_count": 3,
   "id": "25aabe7d",
   "metadata": {},
   "outputs": [
    {
     "name": "stdout",
     "output_type": "stream",
     "text": [
      "Enter the mark for Math: 23\n",
      "Enter the mark for Science: 23\n",
      "Enter the mark for English: 2\n",
      "Average Mark: 16.0\n",
      "Grade: F\n"
     ]
    }
   ],
   "source": [
    "# Solutions\n",
    "\n",
    "# Grade Calculator\n",
    "\n",
    "# Input marks for Math, Science, and English\n",
    "math_mark = int(input(\"Enter the mark for Math: \"))\n",
    "science_mark = int(input(\"Enter the mark for Science: \"))\n",
    "english_mark = int(input(\"Enter the mark for English: \"))\n",
    "\n",
    "# Calculate the average mark\n",
    "average_mark = (math_mark + science_mark + english_mark) / 3\n",
    "\n",
    "# Determine the grade based on the average mark\n",
    "if average_mark >= 90:\n",
    "    grade = \"A\"\n",
    "elif average_mark >= 80:\n",
    "    grade = \"B\"\n",
    "elif average_mark >= 70:\n",
    "    grade = \"C\"\n",
    "elif average_mark >= 60:\n",
    "    grade = \"D\"\n",
    "else:\n",
    "    grade = \"F\"\n",
    "\n",
    "# Display the average mark and the grade\n",
    "print(\"Average Mark:\", average_mark)\n",
    "print(\"Grade:\", grade)\n"
   ]
  }
 ],
 "metadata": {
  "kernelspec": {
   "display_name": "Python [conda env:base] *",
   "language": "python",
   "name": "conda-base-py"
  },
  "language_info": {
   "codemirror_mode": {
    "name": "ipython",
    "version": 3
   },
   "file_extension": ".py",
   "mimetype": "text/x-python",
   "name": "python",
   "nbconvert_exporter": "python",
   "pygments_lexer": "ipython3",
   "version": "3.12.7"
  }
 },
 "nbformat": 4,
 "nbformat_minor": 5
}
