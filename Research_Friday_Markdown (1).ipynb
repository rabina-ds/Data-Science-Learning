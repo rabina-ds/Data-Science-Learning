{
 "cells": [
  {
   "cell_type": "markdown",
   "id": "207c6fbe-b591-4b70-a26d-9ef2d55cbc43",
   "metadata": {},
   "source": [
    "## Rabina's journey to Data Science"
   ]
  },
  {
   "cell_type": "markdown",
   "id": "e847f676-9d90-4dc8-8031-bb7768d7cfd6",
   "metadata": {},
   "source": [
    "## Who is Rabina?\n"
   ]
  },
  {
   "cell_type": "markdown",
   "id": "ea7de035-81c4-466e-b6cb-c0fc8555db85",
   "metadata": {},
   "source": [
    "#### Rabina is a passionate public health analyst. Driven by an unwavering passion to transform research in public health, she is committed to bridging the gap between the data and meaningful change. She strogly believes on the power of evidence generated through scientific research which enables in driving equity and innovation. She is interested in data science, specially in causal inference, to inform policy based on the observational data. She aims to be a poineer of public health data science and causal inference in Nepal."
   ]
  },
  {
   "cell_type": "markdown",
   "id": "b04c7a91-b5d3-485d-81db-dbf2fc4a8cd5",
   "metadata": {},
   "source": [
    "#### Want to know more about Rabina? \n",
    "[Follow me here](https://github.com/rabina-ds)"
   ]
  },
  {
   "cell_type": "markdown",
   "id": "2ee2ed26-19a0-4ecf-8452-87245f4e57c9",
   "metadata": {},
   "source": [
    "## Didn't find the fun facts?\n",
    "* If you offer me a swiss chocolate and a GitHub code, I will definitely choose the later one\n",
    "* My great Friday night would be a new data visualization tool\n",
    "* I organize my kitchen spices alphabetially"
   ]
  },
  {
   "cell_type": "markdown",
   "id": "901e43c6-3281-4b98-8e88-c6adc8b8ddc8",
   "metadata": {},
   "source": [
    "## Want to know what my favourite quotes are?"
   ]
  },
  {
   "cell_type": "markdown",
   "id": "947c3190-9503-4a09-a381-b60012a1d9d9",
   "metadata": {},
   "source": [
    ">“I really need people to take responsibility for the kind of energy they bring to me.”\n",
    ">-Jill Bolte Taylor, My Stroke of Insight\n",
    ">\n",
    ">\"Injustice anywhere is a threat to justice everywhere.\"\n",
    ">-Martin Luther King, Letter from Birmingham Jail, 1963\n",
    ">\n",
    ">\"Education is the most powerful weapon which you can use to change the world.\"\n",
    ">-Nelson Mandela\n",
    ">\n",
    ">\"The goal is to turn data into information, and information into insight.\n",
    ">-Carly Fiorina\"\n",
    ">\n",
    ">\"Without data, you're just another person with an opinion.\"\n",
    ">-W. Edwards Deming"
   ]
  },
  {
   "cell_type": "markdown",
   "id": "3c1863ed-ba30-4224-a805-f7c7f87f369e",
   "metadata": {},
   "source": [
    "## Do you know what I want to explore more about?\n",
    "\n",
    "[Countinuos Glucose Monitoring](https://media.gettyimages.com/id/1360140178/photo/blood-glucose-test.jpg?s=612x612&w=gi&k=20&c=X2NXCmB-Q_WmA_FrSCPNFjKvNx6y4zBQ4234jR43Ce4=)"
   ]
  },
  {
   "cell_type": "code",
   "execution_count": null,
   "id": "9d037284-d9eb-4e39-9039-93a323685f3c",
   "metadata": {},
   "outputs": [],
   "source": []
  }
 ],
 "metadata": {
  "kernelspec": {
   "display_name": "Python [conda env:base] *",
   "language": "python",
   "name": "conda-base-py"
  },
  "language_info": {
   "codemirror_mode": {
    "name": "ipython",
    "version": 3
   },
   "file_extension": ".py",
   "mimetype": "text/x-python",
   "name": "python",
   "nbconvert_exporter": "python",
   "pygments_lexer": "ipython3",
   "version": "3.12.7"
  }
 },
 "nbformat": 4,
 "nbformat_minor": 5
}
